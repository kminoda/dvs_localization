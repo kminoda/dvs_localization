{
 "cells": [
  {
   "cell_type": "code",
   "execution_count": 1,
   "metadata": {},
   "outputs": [],
   "source": [
    "import rosbag\n",
    "import numpy as np\n",
    "import os\n",
    "import matplotlib.pylab as plt\n",
    "import cv2"
   ]
  },
  {
   "cell_type": "code",
   "execution_count": 2,
   "metadata": {},
   "outputs": [],
   "source": [
    "def generate_integrated_img(bag, n_events=50000, n_fill=4, img_size=[720, 1280]):\n",
    "    xs = []\n",
    "    ys = []\n",
    "    cnt = 0\n",
    "    for topic, msg, t in bag:\n",
    "        if topic=='/prophesee/camera/cd_events_buffer':\n",
    "            for event in msg.events:\n",
    "                xs.append(event.x)\n",
    "                ys.append(event.y)\n",
    "                cnt += 1\n",
    "            if cnt >= n_events:\n",
    "                break\n",
    "        if cnt >= n_events:\n",
    "            break\n",
    "\n",
    "    integrated_img = np.ones(img_size + [3]) * 255\n",
    "\n",
    "    for x, y in zip(xs, ys):\n",
    "        integrated_img[y-n_fill : y+n_fill, x-n_fill : x+n_fill] = np.array([1, 1, 1])\n",
    "    integrated_img = integrated_img.astype(np.uint8)\n",
    "    return integrated_img"
   ]
  },
  {
   "cell_type": "code",
   "execution_count": 3,
   "metadata": {},
   "outputs": [],
   "source": [
    "i = 0\n",
    "pattern_size = (6, 6)\n",
    "square_size = 2.2 #[cm]\n",
    "\n",
    "pattern_points = np.zeros( (np.prod(pattern_size), 3), np.float32 )\n",
    "pattern_points[:, :2] = np.indices(pattern_size).T.reshape(-1, 2)\n",
    "pattern_points *= square_size"
   ]
  },
  {
   "cell_type": "code",
   "execution_count": 4,
   "metadata": {},
   "outputs": [
    {
     "name": "stdout",
     "output_type": "stream",
     "text": [
      "#0: Corner detected.\n",
      "#1: Corner detected.\n",
      "#2: Corner detected.\n",
      "#3: Corner detected.\n",
      "#4: Corner detected.\n",
      "#5: Corner detected.\n",
      "#6: Corner detected.\n"
     ]
    }
   ],
   "source": [
    "imgs = []\n",
    "imgpoints = []\n",
    "objpoints = []\n",
    "\n",
    "i = 0\n",
    "while True:\n",
    "    bagpath = '/home/koji/dvs/calibration/data/prophesee_rosbag/rec{}.bag'.format(i)\n",
    "    if not os.path.exists(bagpath):\n",
    "        break\n",
    "    bag = rosbag.Bag(bagpath)\n",
    "    integrated_img = generate_integrated_img(bag)\n",
    "    imgs.append(integrated_img)\n",
    "    ret, corner = cv2.findChessboardCorners(integrated_img, pattern_size)\n",
    "    if ret:\n",
    "        print('#{}: Corner detected.'.format(i))\n",
    "        imgpoints.append(corner.reshape(-1, 2))\n",
    "        objpoints.append(pattern_points)\n",
    "    else:\n",
    "        print('#{}: Not detected.'.format(i))\n",
    "    i += 1"
   ]
  },
  {
   "cell_type": "code",
   "execution_count": 5,
   "metadata": {},
   "outputs": [
    {
     "data": {
      "text/plain": [
       "<matplotlib.image.AxesImage at 0x7f8beaef04d0>"
      ]
     },
     "execution_count": 5,
     "metadata": {},
     "output_type": "execute_result"
    },
    {
     "data": {
      "image/png": "[encoded data removed]",
      "text/plain": [
       "<Figure size 432x288 with 1 Axes>"
      ]
     },
     "metadata": {
      "needs_background": "light"
     },
     "output_type": "display_data"
    }
   ],
   "source": [
    "plt.imshow(imgs[2])"
   ]
  },
  {
   "cell_type": "code",
   "execution_count": 6,
   "metadata": {},
   "outputs": [],
   "source": [
    "ret, mtx, dist, rvecs, tvecs = cv2.calibrateCamera(objpoints, imgpoints, (1280, 720), None, None)"
   ]
  },
  {
   "cell_type": "code",
   "execution_count": 7,
   "metadata": {},
   "outputs": [
    {
     "data": {
      "text/plain": [
       "(array([[1.02839267e+03, 0.00000000e+00, 6.42907688e+02],\n",
       "        [0.00000000e+00, 1.03943630e+03, 3.09842219e+02],\n",
       "        [0.00000000e+00, 0.00000000e+00, 1.00000000e+00]]),\n",
       " array([[-4.31668238e-01,  2.17652821e-01,  4.27917312e-04,\n",
       "         -1.69768444e-03, -6.51957281e-02]]))"
      ]
     },
     "execution_count": 7,
     "metadata": {},
     "output_type": "execute_result"
    }
   ],
   "source": [
    "mtx, dist"
   ]
  },
  {
   "cell_type": "code",
   "execution_count": 8,
   "metadata": {},
   "outputs": [],
   "source": [
    "h, w = imgs[2].shape[:2]\n",
    "newcameramatrix, roi = cv2.getOptimalNewCameraMatrix(mtx, dist, (w, h), 1, (w, h))"
   ]
  },
  {
   "cell_type": "code",
   "execution_count": 9,
   "metadata": {},
   "outputs": [],
   "source": [
    "dst = cv2.undistort(imgs[2], mtx, dist, None, newcameramatrix)"
   ]
  },
  {
   "cell_type": "code",
   "execution_count": 16,
   "metadata": {},
   "outputs": [
    {
     "data": {
      "image/png": "[encoded data removed]",
      "text/plain": [
       "<Figure size 720x288 with 2 Axes>"
      ]
     },
     "metadata": {
      "needs_background": "light"
     },
     "output_type": "display_data"
    }
   ],
   "source": [
    "fig, (axL, axR) = plt.subplots(ncols=2, figsize=(10,4))\n",
    "axL.imshow(imgs[2])\n",
    "axR.imshow(dst)\n",
    "plt.show()"
   ]
  },
  {
   "cell_type": "code",
   "execution_count": null,
   "metadata": {},
   "outputs": [],
   "source": []
  }
 ],
 "metadata": {
  "kernelspec": {
   "display_name": "Python 2",
   "language": "python",
   "name": "python2"
  },
  "language_info": {
   "codemirror_mode": {
    "name": "ipython",
    "version": 2
   },
   "file_extension": ".py",
   "mimetype": "text/x-python",
   "name": "python",
   "nbconvert_exporter": "python",
   "pygments_lexer": "ipython2",
   "version": "2.7.12"
  }
 },
 "nbformat": 4,
 "nbformat_minor": 2
}
