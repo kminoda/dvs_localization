{
 "cells": [
  {
   "cell_type": "code",
   "execution_count": 1,
   "metadata": {},
   "outputs": [],
   "source": [
    "import numpy as np\n",
    "import os\n",
    "import rosbag\n",
    "import matplotlib.pylab as plt\n",
    "import copy\n",
    "import sys\n",
    "import tqdm\n",
    "import time\n",
    "import math\n",
    "import bisect\n",
    "from sklearn.cluster import KMeans\n",
    "\n",
    "sys.path.append('home/koji/dvs/src')\n",
    "from detector import get_event_list_from_bag, estimate_led_positions, estimate_led_positions_kmeans, get_estimated_pos_from_evidence_map"
   ]
  },
  {
   "cell_type": "code",
   "execution_count": 2,
   "metadata": {},
   "outputs": [
    {
     "name": "stderr",
     "output_type": "stream",
     "text": [
      "10868it [00:24, 440.56it/s]\n"
     ]
    }
   ],
   "source": [
    "bagpath = '/home/koji/dvs/vlc/data/vlc_slow_100_100hz_00101101111001_00101101101110_noise.bag'\n",
    "# bagpath = '/home/koji/dvs/vlc/data/vlc_slow_150hz_00101101111001.bag'\n",
    "# bagpath = '/home/koji/dvs/vlc/data/led_500_700hz_light.bag'\n",
    "\n",
    "event_list, event_time_list = get_event_list_from_bag(rosbag.Bag(bagpath), 0.5)"
   ]
  },
  {
   "cell_type": "code",
   "execution_count": 3,
   "metadata": {},
   "outputs": [],
   "source": [
    "fi = 100\n",
    "estimated_pos_dict, evidence_map_dict = estimate_led_positions(\n",
    "    event_list, \n",
    "    [fi], \n",
    "    0.5, \n",
    "    event_time_list=event_time_list, \n",
    "    n_tol=1, \n",
    "    sigma=30\n",
    ")"
   ]
  },
  {
   "cell_type": "code",
   "execution_count": 4,
   "metadata": {},
   "outputs": [],
   "source": [
    "fi = 100\n",
    "estimated_pos_dict, evidence_map_dict = estimate_led_positions_kmeans(\n",
    "    event_list, \n",
    "    fi, \n",
    "    n_led=2,\n",
    "    t_at=0.5,\n",
    "    event_time_list=event_time_list, \n",
    "    n_tol=1, \n",
    "    sigma=30\n",
    ")"
   ]
  },
  {
   "cell_type": "code",
   "execution_count": 7,
   "metadata": {},
   "outputs": [
    {
     "name": "stdout",
     "output_type": "stream",
     "text": [
      "0.00041127439901096185\n"
     ]
    },
    {
     "data": {
      "image/png": "[encoded data removed]",
      "text/plain": [
       "<Figure size 432x288 with 1 Axes>"
      ]
     },
     "metadata": {
      "needs_background": "light"
     },
     "output_type": "display_data"
    }
   ],
   "source": [
    "plt.imshow(np.array(evidence_map_dict[fi]).T)\n",
    "plt.scatter(estimated_pos_dict[0][0], estimated_pos_dict[0][1], color='white')\n",
    "plt.scatter(estimated_pos_dict[1][0], estimated_pos_dict[1][1], color='white')\n",
    "\n",
    "print(np.max(evidence_map_dict[fi]))"
   ]
  },
  {
   "cell_type": "code",
   "execution_count": 62,
   "metadata": {},
   "outputs": [],
   "source": [
    "\n",
    "def get_hist_and_time_debug(event_list, led_pos, t_begin=0.3, t_end=0.5, led_r = 40):\n",
    "    x_min_cond = led_pos[0]-led_r < event_list[:, 0]\n",
    "    x_max_cond = led_pos[0]+led_r > event_list[:, 0]\n",
    "    y_min_cond = led_pos[1]-led_r < event_list[:, 1]\n",
    "    y_max_cond = led_pos[1]+led_r > event_list[:, 1]\n",
    "    event_list_freq = event_list[np.where(x_min_cond & x_max_cond & y_min_cond & y_max_cond)[0]].tolist()\n",
    "    \n",
    "    time_list = []\n",
    "    polarity_list = []\n",
    "    start_t = -1\n",
    "    for event in event_list_freq:\n",
    "        if start_t < 0:\n",
    "            start_t = event[2]\n",
    "        if event[2] - start_t < t_begin:\n",
    "            continue\n",
    "        time_list.append(event[2] - start_t)\n",
    "        polarity_list.append(event[3])\n",
    "        if event[2] - start_t > t_end:\n",
    "            break\n",
    "    time_list = np.array(time_list)\n",
    "    polarity_list = np.array(polarity_list)\n",
    "    return time_list, polarity_list"
   ]
  },
  {
   "cell_type": "code",
   "execution_count": 55,
   "metadata": {},
   "outputs": [],
   "source": [
    "\n",
    "def get_hist_and_time(event_list, led_pos, t_begin=0.3, t_end=0.5, led_r = 40):\n",
    "    x_min_cond = led_pos[0]-led_r < event_list[:, 0]\n",
    "    x_max_cond = led_pos[0]+led_r > event_list[:, 0]\n",
    "    y_min_cond = led_pos[1]-led_r < event_list[:, 1]\n",
    "    y_max_cond = led_pos[1]+led_r > event_list[:, 1]\n",
    "    event_list_freq = event_list[np.where(x_min_cond & x_max_cond & y_min_cond & y_max_cond)[0]].tolist()\n",
    "    \n",
    "    time_list = []\n",
    "    polarity_list = []\n",
    "    start_t = -1\n",
    "    for event in event_list_freq:\n",
    "        if start_t < 0:\n",
    "            start_t = event[2]\n",
    "        if event[2] - start_t < t_begin:\n",
    "            continue\n",
    "        time_list.append(event[2] - start_t)\n",
    "        polarity_list.append(event[3])\n",
    "        if event[2] - start_t > t_end:\n",
    "            break\n",
    "    time_list = np.array(time_list)\n",
    "    polarity_list = np.array(polarity_list)\n",
    "    \n",
    "    # Very heuristic!!!!\n",
    "    n_bins = (t_end - t_begin) * 5000\n",
    "    \n",
    "    plt.figure(figsize=(20, 4))\n",
    "    hoge = plt.hist([time_list[polarity_list==1], time_list[polarity_list==0]], bins=1000, label=['positive', 'negative'])\n",
    "    plt.xlabel('time [s]', fontsize=12)\n",
    "    plt.xticks(fontsize=12)\n",
    "    plt.ylabel('# of events', fontsize=12)\n",
    "    plt.yticks(fontsize=12)\n",
    "    plt.title('LED@{}Hz'.format(fi), fontsize=20)\n",
    "    plt.legend()\n",
    "    time_bins = hoge[1]\n",
    "    hist_datas = hoge[0]\n",
    "    return time_bins, hist_datas"
   ]
  },
  {
   "cell_type": "code",
   "execution_count": 56,
   "metadata": {},
   "outputs": [],
   "source": [
    "def get_edges(hist_data, time_bins, thres=50):\n",
    "    edges = []\n",
    "    flag = False\n",
    "    for time, val in zip(time_bins, hist_data):\n",
    "        if val > thres and not flag:\n",
    "            edges.append(time)\n",
    "            flag = True\n",
    "        elif val < thres and flag:\n",
    "            flag = False\n",
    "    return edges\n"
   ]
  },
  {
   "cell_type": "code",
   "execution_count": 57,
   "metadata": {},
   "outputs": [],
   "source": [
    "def get_bits_from_edges(edges, freq):\n",
    "    \"\"\"\n",
    "    edges: list of detected edge timestamps\n",
    "    \"\"\"\n",
    "    tol_rate = 0.9\n",
    "    bits = [True]\n",
    "    cur_time = edges[0]\n",
    "    cur_idx = 1\n",
    "    while True:\n",
    "        cur_time += 1.0/freq\n",
    "        if edges[cur_idx] > cur_time - 0.5*tol_rate/freq and edges[cur_idx] < cur_time + 0.5*tol_rate/freq:\n",
    "            bits.append(True)\n",
    "            cur_idx += 1\n",
    "        else:\n",
    "            bits.append(False)\n",
    "        if cur_idx >= len(edges) or cur_time > edges[-1]:\n",
    "            break\n",
    "    return bits"
   ]
  },
  {
   "cell_type": "code",
   "execution_count": 58,
   "metadata": {},
   "outputs": [],
   "source": [
    "def get_sync_idx(bits, sync):\n",
    "    n_sync = len(sync)\n",
    "    n_bits = len(bits)\n",
    "    sync_idx = []\n",
    "    for i in range(n_bits - n_sync):\n",
    "        is_sync = True\n",
    "        for j in range(n_sync):\n",
    "            is_sync = is_sync and (bits[i+j]*1==sync[j])\n",
    "        if is_sync:\n",
    "            sync_idx.append(i)\n",
    "    return sync_idx"
   ]
  },
  {
   "cell_type": "code",
   "execution_count": 59,
   "metadata": {},
   "outputs": [],
   "source": [
    "def encode_msg(bits, sync=[0, 0, 1, 0, 1, 1, 0], len_msg=6):\n",
    "    sync_idx = get_sync_idx(bits, sync)\n",
    "    n_sync = len(sync)\n",
    "    for idx in sync_idx:\n",
    "        msg = bits[idx+n_sync : idx+n_sync+len_msg]\n",
    "        parity = bits[idx + n_sync + len_msg]\n",
    "        if (sum(msg)+sum(sync))%2==parity:\n",
    "            print('Detected the correct msg')\n",
    "            return msg\n",
    "        else:\n",
    "            print('Error detected!!')"
   ]
  },
  {
   "cell_type": "code",
   "execution_count": 60,
   "metadata": {},
   "outputs": [],
   "source": [
    "def encode_msg_old(bits, sync=[0, 0, 1, 0, 1, 1, 0], len_msg=6):\n",
    "    current_sync_idx = 0\n",
    "    sync_complete = False\n",
    "    msg = []\n",
    "    for bit in bits:\n",
    "        if not sync_complete:\n",
    "            if sync[current_sync_idx]==bit:\n",
    "                current_sync_idx += 1\n",
    "            else:\n",
    "                current_sync_idx = 0\n",
    "            if current_sync_idx == len(sync):\n",
    "                sync_complete = True\n",
    "        elif len(msg) == len_msg:\n",
    "            if (sum(sync)+sum(msg))%2==bit:\n",
    "                print('Detected the correct msg')\n",
    "                return msg\n",
    "            else:\n",
    "                print('Error detected!!')\n",
    "                sync_complete = False\n",
    "                msg = []\n",
    "        else:\n",
    "            msg.append(bit)\n",
    "    return []"
   ]
  },
  {
   "cell_type": "code",
   "execution_count": 63,
   "metadata": {},
   "outputs": [],
   "source": [
    "time_list, polarity_list = get_hist_and_time_debug(np.array(event_list), pos, t_begin=0., t_end=0.5)"
   ]
  },
  {
   "cell_type": "code",
   "execution_count": 92,
   "metadata": {},
   "outputs": [
    {
     "data": {
      "image/png": "[encoded data removed]",
      "text/plain": [
       "<Figure size 432x288 with 1 Axes>"
      ]
     },
     "metadata": {
      "needs_background": "light"
     },
     "output_type": "display_data"
    }
   ],
   "source": [
    "n_bins = 5000\n",
    "hoge = plt.hist([time_list[polarity_list==1], time_list[polarity_list==0]], bins=n_bins, label=['positive', 'negative'])"
   ]
  },
  {
   "cell_type": "code",
   "execution_count": 93,
   "metadata": {},
   "outputs": [
    {
     "data": {
      "text/plain": [
       "array([ True,  True,  True, ...,  True,  True,  True])"
      ]
     },
     "execution_count": 93,
     "metadata": {},
     "output_type": "execute_result"
    }
   ],
   "source": [
    "range_hist = (np.min(time_list), np.max(time_list))\n",
    "pos = np.histogram(time_list[polarity_list==1], bins=n_bins, range=range_hist)\n",
    "neg = np.histogram(time_list[polarity_list==0], bins=n_bins, range=range_hist)\n",
    "hoge[1] == pos[1]"
   ]
  },
  {
   "cell_type": "code",
   "execution_count": 95,
   "metadata": {},
   "outputs": [
    {
     "data": {
      "text/plain": [
       "(array([ True,  True,  True, ...,  True,  True,  True]),\n",
       " array([ True,  True,  True, ...,  True,  True,  True]))"
      ]
     },
     "execution_count": 95,
     "metadata": {},
     "output_type": "execute_result"
    }
   ],
   "source": [
    "hoge[0][0] == pos[0], hoge[0][1] == neg[0]"
   ]
  },
  {
   "cell_type": "code",
   "execution_count": 61,
   "metadata": {},
   "outputs": [
    {
     "name": "stdout",
     "output_type": "stream",
     "text": [
      "Detected the correct msg\n",
      "pos:[981.0949464012251, 167.49157733537518], msg:[True, True, True, True, False, False]\n",
      "Detected the correct msg\n",
      "pos:[295.9845047039292, 408.9446596568899], msg:[True, True, False, True, True, True]\n"
     ]
    },
    {
     "data": {
      "image/png": "[encoded data removed]",
      "text/plain": [
       "<Figure size 1440x288 with 1 Axes>"
      ]
     },
     "metadata": {
      "needs_background": "light"
     },
     "output_type": "display_data"
    },
    {
     "data": {
      "image/png": "[encoded data removed]",
      "text/plain": [
       "<Figure size 1440x288 with 1 Axes>"
      ]
     },
     "metadata": {
      "needs_background": "light"
     },
     "output_type": "display_data"
    }
   ],
   "source": [
    "for pos in estimated_pos_dict.values():\n",
    "    time_bins, hist_datas = get_hist_and_time(np.array(event_list), pos, t_begin=0., t_end=0.5)\n",
    "    edges = get_edges(hist_datas[0], time_bins, thres=100)\n",
    "    bits = get_bits_from_edges(edges, fi)\n",
    "    msg = encode_msg(bits)\n",
    "    print('pos:{0}, msg:{1}'.format(pos, msg))"
   ]
  },
  {
   "cell_type": "markdown",
   "metadata": {},
   "source": [
    "# Miscellaneous"
   ]
  },
  {
   "cell_type": "code",
   "execution_count": 240,
   "metadata": {},
   "outputs": [
    {
     "data": {
      "text/plain": [
       "[<matplotlib.lines.Line2D at 0x7fab23dfe9d0>]"
      ]
     },
     "execution_count": 240,
     "metadata": {},
     "output_type": "execute_result"
    },
    {
     "data": {
      "image/png": "[encoded data removed]",
      "text/plain": [
       "<Figure size 432x288 with 1 Axes>"
      ]
     },
     "metadata": {
      "needs_background": "light"
     },
     "output_type": "display_data"
    }
   ],
   "source": [
    "plt.plot(hoge[1][:-1], hoge[0]>250)"
   ]
  },
  {
   "cell_type": "code",
   "execution_count": 232,
   "metadata": {},
   "outputs": [],
   "source": [
    "def get_event_time(event_list, led_pos):\n",
    "    event_list_freq = []\n",
    "    event_list_pos_freq = []\n",
    "    event_list_neg_freq = []\n",
    "    pos_freq = led_pos\n",
    "    led_r = 20\n",
    "\n",
    "    for event in tqdm.tqdm(event_list):\n",
    "        if pos_freq[0]-led_r<event[0] and pos_freq[0]+led_r>event[0] and pos_freq[1]-led_r<event[1] and pos_freq[1]+led_r>event[1]:\n",
    "            event_list_freq.append(event)\n",
    "            if event[3]==1:\n",
    "                event_list_pos_freq.append(event)\n",
    "            else:\n",
    "                event_list_neg_freq.append(event)\n",
    "    count_hist = plt.hist(time_list,bins=500)\n",
    "    plt.close()\n",
    "    return event_list_pos_freq, event_list_neg_freq\n",
    "#     plt.figure()\n",
    "#     plt.plot(count_hist[1][:-1], count_hist[0]>250)"
   ]
  },
  {
   "cell_type": "code",
   "execution_count": 233,
   "metadata": {},
   "outputs": [
    {
     "name": "stderr",
     "output_type": "stream",
     "text": [
      "100%|██████████| 517123/517123 [00:00<00:00, 680689.37it/s]\n"
     ]
    }
   ],
   "source": [
    "a, b = get_event_time(event_list, estimated_pos_dict[100])"
   ]
  },
  {
   "cell_type": "code",
   "execution_count": 263,
   "metadata": {},
   "outputs": [
    {
     "data": {
      "image/png": "[encoded data removed]",
      "text/plain": [
       "<Figure size 432x288 with 1 Axes>"
      ]
     },
     "metadata": {
      "needs_background": "light"
     },
     "output_type": "display_data"
    }
   ],
   "source": [
    "time_pos = []\n",
    "for event in a:\n",
    "    time_pos.append(event[2])\n",
    "plt.hist(time_pos, bins=100)\n",
    "plt.show()"
   ]
  },
  {
   "cell_type": "code",
   "execution_count": null,
   "metadata": {},
   "outputs": [],
   "source": []
  }
 ],
 "metadata": {
  "kernelspec": {
   "display_name": "Python 2",
   "language": "python",
   "name": "python2"
  },
  "language_info": {
   "codemirror_mode": {
    "name": "ipython",
    "version": 2
   },
   "file_extension": ".py",
   "mimetype": "text/x-python",
   "name": "python",
   "nbconvert_exporter": "python",
   "pygments_lexer": "ipython2",
   "version": "2.7.12"
  }
 },
 "nbformat": 4,
 "nbformat_minor": 2
}
