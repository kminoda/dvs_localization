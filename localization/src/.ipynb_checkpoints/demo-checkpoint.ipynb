{
 "cells": [
  {
   "cell_type": "code",
   "execution_count": 1,
   "metadata": {},
   "outputs": [],
   "source": [
    "import rosbag\n",
    "from tf2_msgs.msg import TFMessage\n",
    "from geometry_msgs.msg import TransformStamped, PoseStamped\n",
    "from sensor_msgs.msg import Image\n",
    "from nav_msgs.msg import Odometry, Path\n",
    "\n",
    "from cv_bridge import CvBridge\n",
    "import cv2\n",
    "import numpy as np\n",
    "import os\n",
    "import json\n",
    "import time\n",
    "import copy\n",
    "from scipy.spatial.transform import Rotation\n",
    "from recorder import record\n",
    "from localize import localize"
   ]
  },
  {
   "cell_type": "code",
   "execution_count": 2,
   "metadata": {},
   "outputs": [],
   "source": [
    "with open('/home/koji/dvs/localization/cfg/config.json') as f:\n",
    "    config = json.load(f)"
   ]
  },
  {
   "cell_type": "code",
   "execution_count": 3,
   "metadata": {},
   "outputs": [],
   "source": [
    "bridge = CvBridge()\n",
    "img = cv2.imread('/home/koji/dvs/localization/data/images/00.jpeg')\n",
    "img_msg = bridge.cv2_to_imgmsg(img, encoding='passthrough')"
   ]
  },
  {
   "cell_type": "code",
   "execution_count": 4,
   "metadata": {},
   "outputs": [],
   "source": [
    "bagpath_list = [\n",
    "    '/home/koji/dvs/localization/data/00.bag',\n",
    "    '/home/koji/dvs/localization/data/01.bag',\n",
    "    '/home/koji/dvs/localization/data/02.bag',\n",
    "    '/home/koji/dvs/localization/data/03.bag',\n",
    "    '/home/koji/dvs/localization/data/04.bag',\n",
    "    '/home/koji/dvs/localization/data/05.bag',\n",
    "    '/home/koji/dvs/localization/data/06.bag',\n",
    "    '/home/koji/dvs/localization/data/07.bag',\n",
    "    '/home/koji/dvs/localization/data/08.bag'\n",
    "]\n",
    "img_list = [\n",
    "    '/home/koji/dvs/localization/data/images/00.jpeg',\n",
    "    '/home/koji/dvs/localization/data/images/01.jpeg',\n",
    "    '/home/koji/dvs/localization/data/images/02.jpeg',\n",
    "    '/home/koji/dvs/localization/data/images/03.jpeg',\n",
    "    '/home/koji/dvs/localization/data/images/04.jpeg',\n",
    "    '/home/koji/dvs/localization/data/images/05.jpeg',\n",
    "    '/home/koji/dvs/localization/data/images/06.jpeg',\n",
    "    '/home/koji/dvs/localization/data/images/07.jpeg',\n",
    "    '/home/koji/dvs/localization/data/images/08.jpeg',\n",
    "]"
   ]
  },
  {
   "cell_type": "code",
   "execution_count": 5,
   "metadata": {},
   "outputs": [],
   "source": [
    "def add_tfs(bagpath_list, img_list, config):\n",
    "    dt = 0.01\n",
    "    num = 100\n",
    "    outbag = rosbag.Bag('/home/koji/dvs/localization/src/test.bag', 'w')\n",
    "    transform_stamped_msg = TransformStamped()\n",
    "    bridge = CvBridge()\n",
    "\n",
    "    timestamp_zero = copy.deepcopy(transform_stamped_msg.header.stamp)\n",
    "    path_msg = Path()\n",
    "    path_msg.header.frame_id = 'base'\n",
    "    \n",
    "    for i, rosbagpath in enumerate(bagpath_list):\n",
    "        ### Write image msgs\n",
    "        img = cv2.imread(img_list[i])\n",
    "        img = cv2.cvtColor(img, cv2.COLOR_BGR2RGB)\n",
    "        img_msg = bridge.cv2_to_imgmsg(img, encoding='rgb8')\n",
    "        cur_timestamp = add_rostime(timestamp_zero, num*i*dt + dt)\n",
    "        img_msg.header.stamp = cur_timestamp\n",
    "        img_msg.header.frame_id = 'robot'\n",
    "        outbag.write('/image_raw', img_msg, cur_timestamp)\n",
    "        \n",
    "        ### Localize and write tf messages\n",
    "        start = time.time()\n",
    "        R, T = localize(rosbagpath, config)\n",
    "        r = Rotation.from_dcm(R)\n",
    "        q = r.as_quat()\n",
    "        px, py, pz, qx, qy, qz, qw = T[2][0]*0.1, T[0][0]*0.1, T[1][0]*0.1, q[0], q[1], q[2], q[3]\n",
    "        odom_msg = Odometry()\n",
    "        odom_msg.pose.pose.position.x = -px\n",
    "        odom_msg.pose.pose.position.y = py\n",
    "        odom_msg.pose.pose.position.z = -pz\n",
    "        odom_msg.pose.pose.orientation.x = qx\n",
    "        odom_msg.pose.pose.orientation.y = qy\n",
    "        odom_msg.pose.pose.orientation.z = qz\n",
    "        odom_msg.pose.pose.orientation.w = qw\n",
    "        odom_msg.header.frame_id = 'base'\n",
    "        odom_msg.header.stamp = cur_timestamp\n",
    "        outbag.write('/odometry', odom_msg, cur_timestamp)\n",
    "       \n",
    "        pose_stamped_msg = PoseStamped()\n",
    "        pose_stamped_msg.pose.position.x = -px\n",
    "        pose_stamped_msg.pose.position.y = py\n",
    "        pose_stamped_msg.pose.position.z = -pz\n",
    "        pose_stamped_msg.pose.orientation.x = qx\n",
    "        pose_stamped_msg.pose.orientation.y = qy\n",
    "        pose_stamped_msg.pose.orientation.z = qz\n",
    "        pose_stamped_msg.pose.orientation.w = qw\n",
    "        pose_stamped_msg.header.frame_id = 'base'\n",
    "        pose_stamped_msg.header.stamp = cur_timestamp\n",
    "        # path_msg = Path()\n",
    "        path_msg.poses.append(pose_stamped_msg)\n",
    "        path_msg.header.stamp = cur_timestamp\n",
    "        outbag.write('/path', path_msg, cur_timestamp)\n",
    "    \n",
    "        transform_stamped_msg = TransformStamped()\n",
    "        transform_stamped_msg.transform.translation.x = px\n",
    "        transform_stamped_msg.transform.translation.y = -py\n",
    "        transform_stamped_msg.transform.translation.z = pz\n",
    "        transform_stamped_msg.transform.rotation.x = qx\n",
    "        transform_stamped_msg.transform.rotation.y = qy\n",
    "        transform_stamped_msg.transform.rotation.z = qz\n",
    "        transform_stamped_msg.transform.rotation.w = qw\n",
    "        transform_stamped_msg.header.frame_id = 'robot'\n",
    "        transform_stamped_msg.child_frame_id = 'base'\n",
    "    \n",
    "        for j in range(num):\n",
    "            cur_timestamp = add_rostime(timestamp_zero, (j+num*i)*dt)\n",
    "            transform_stamped_msg.header.stamp = cur_timestamp\n",
    "            tf_msg = TFMessage()\n",
    "            tf_msg.transforms.append(transform_stamped_msg)\n",
    "            outbag.write('/tf', tf_msg, cur_timestamp)\n",
    "    outbag.close()"
   ]
  },
  {
   "cell_type": "code",
   "execution_count": 7,
   "metadata": {},
   "outputs": [],
   "source": [
    "def add_rostime(stamp, t):\n",
    "    new_stamp = copy.deepcopy(stamp)\n",
    "    new_nsecs = stamp.nsecs + int((t%1) * 10**9)\n",
    "    new_secs = stamp.secs + int(t) + new_nsecs // 10**9\n",
    "    new_secs = new_secs % 10**9\n",
    "    \n",
    "    new_stamp.secs = new_secs\n",
    "    new_stamp.nsecs = new_nsecs\n",
    "    return new_stamp"
   ]
  },
  {
   "cell_type": "code",
   "execution_count": null,
   "metadata": {},
   "outputs": [
    {
     "name": "stderr",
     "output_type": "stream",
     "text": [
      "858it [00:02, 381.91it/s]\n"
     ]
    },
    {
     "name": "stdout",
     "output_type": "stream",
     "text": [
      "Detected the correct msg\n",
      "Detected the correct msg\n",
      "pos:[730, 221], msg:[True, True, True, True, False, False]\n",
      "pos:[666, 326], msg:[True, True, False, False, True, True]\n",
      "time: 3.00796604156[s]\n"
     ]
    },
    {
     "name": "stderr",
     "output_type": "stream",
     "text": [
      "1174it [00:03, 339.83it/s]\n"
     ]
    },
    {
     "name": "stdout",
     "output_type": "stream",
     "text": [
      "Detected the correct msg\n",
      "Detected the correct msg\n",
      "pos:[507, 219], msg:[True, True, True, True, False, False]\n",
      "pos:[434, 333], msg:[True, True, False, False, True, True]\n",
      "time: 4.67893505096[s]\n"
     ]
    },
    {
     "name": "stderr",
     "output_type": "stream",
     "text": [
      "1073it [00:02, 487.86it/s]\n"
     ]
    },
    {
     "name": "stdout",
     "output_type": "stream",
     "text": [
      "Detected the correct msg\n",
      "Detected the correct msg\n",
      "pos:[619, 212], msg:[True, True, True, True, False, False]\n",
      "pos:[543, 340], msg:[True, True, False, False, True, True]\n",
      "time: 3.10673999786[s]\n"
     ]
    },
    {
     "name": "stderr",
     "output_type": "stream",
     "text": [
      "1225it [00:02, 444.71it/s]\n"
     ]
    },
    {
     "name": "stdout",
     "output_type": "stream",
     "text": [
      "Detected the correct msg\n",
      "Detected the correct msg\n",
      "pos:[742, 340], msg:[True, True, False, False, True, True]\n",
      "pos:[826, 203], msg:[True, True, True, True, False, False]\n",
      "time: 4.04880714417[s]\n"
     ]
    },
    {
     "name": "stderr",
     "output_type": "stream",
     "text": [
      "1144it [00:02, 433.27it/s]\n"
     ]
    },
    {
     "name": "stdout",
     "output_type": "stream",
     "text": [
      "Detected the correct msg\n",
      "Detected the correct msg\n",
      "pos:[841, 349], msg:[True, True, False, False, True, True]\n",
      "pos:[925, 204], msg:[True, True, True, True, False, False]\n",
      "time: 3.56480383873[s]\n"
     ]
    },
    {
     "name": "stderr",
     "output_type": "stream",
     "text": [
      "1136it [00:03, 317.79it/s]\n"
     ]
    },
    {
     "name": "stdout",
     "output_type": "stream",
     "text": [
      "Detected the correct msg\n",
      "Detected the correct msg\n",
      "pos:[646, 296], msg:[True, True, False, False, True, True]\n",
      "pos:[751, 111], msg:[True, True, True, True, False, False]\n",
      "time: 4.70327091217[s]\n"
     ]
    },
    {
     "name": "stderr",
     "output_type": "stream",
     "text": [
      "896it [00:02, 470.35it/s]"
     ]
    }
   ],
   "source": [
    "add_tfs(bagpath_list, img_list, config)"
   ]
  },
  {
   "cell_type": "code",
   "execution_count": null,
   "metadata": {},
   "outputs": [],
   "source": []
  },
  {
   "cell_type": "code",
   "execution_count": 19,
   "metadata": {},
   "outputs": [],
   "source": [
    "r = Rotation.from_dcm(R)\n",
    "q = r.as_quat()"
   ]
  },
  {
   "cell_type": "code",
   "execution_count": 51,
   "metadata": {},
   "outputs": [],
   "source": [
    "transform_stamped_msg = TransformStamped()\n",
    "transform_stamped_msg.transform.translation.x = T[0][0]\n",
    "transform_stamped_msg.transform.translation.y = T[1][0]\n",
    "transform_stamped_msg.transform.translation.z = T[2][0]\n",
    "transform_stamped_msg.transform.rotation.x = q[0]\n",
    "transform_stamped_msg.transform.rotation.y = q[1]\n",
    "transform_stamped_msg.transform.rotation.z = q[2]\n",
    "transform_stamped_msg.transform.rotation.w = q[3]\n",
    "tf_msg = TFMessage()\n",
    "tf_msg.transforms.append(transform_stamped_msg)\n",
    "timestamp_zero = copy.deepcopy(transform_stamped_msg.header.stamp)"
   ]
  },
  {
   "cell_type": "code",
   "execution_count": 53,
   "metadata": {},
   "outputs": [],
   "source": [
    "outbag = rosbag.Bag('/home/koji/dvs/localization/src/test.bag', 'w')\n",
    "for i in range(1000):\n",
    "    cur_timestamp = add_rostime(timestamp_zero, i*0.01)\n",
    "    transform_stamped_msg.header.stamp = cur_timestamp\n",
    "    tf_msg = TFMessage()\n",
    "    tf_msg.transforms.append(transform_stamped_msg)\n",
    "    outbag.write('/tf', tf_msg, cur_timestamp)\n",
    "outbag.close()"
   ]
  },
  {
   "cell_type": "code",
   "execution_count": 47,
   "metadata": {},
   "outputs": [
    {
     "data": {
      "text/plain": [
       "1.01"
      ]
     },
     "execution_count": 47,
     "metadata": {},
     "output_type": "execute_result"
    }
   ],
   "source": [
    "add_rostime(transform_stamped_msg.header.stamp, 1.01)"
   ]
  },
  {
   "cell_type": "code",
   "execution_count": null,
   "metadata": {},
   "outputs": [],
   "source": []
  }
 ],
 "metadata": {
  "kernelspec": {
   "display_name": "Python 2.7.12 64-bit",
   "language": "python",
   "name": "python271264bit15e2a099b65e44b6af1b82e1b56fb73a"
  },
  "language_info": {
   "codemirror_mode": {
    "name": "ipython",
    "version": 2
   },
   "file_extension": ".py",
   "mimetype": "text/x-python",
   "name": "python",
   "nbconvert_exporter": "python",
   "pygments_lexer": "ipython2",
   "version": "2.7.12"
  }
 },
 "nbformat": 4,
 "nbformat_minor": 2
}
