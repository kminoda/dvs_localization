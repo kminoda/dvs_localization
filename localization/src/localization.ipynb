{
 "cells": [
  {
   "cell_type": "code",
   "execution_count": 2,
   "metadata": {},
   "outputs": [],
   "source": [
    "import numpy as np\n",
    "import matplotlib.pylab as plt\n",
    "import sys\n",
    "import os\n",
    "import rosbag\n",
    "import cv2\n",
    "sys.path.append('/home/koji/dvs/vlc/src')\n",
    "from detector import get_event_list_from_bag, estimate_led_positions_kmeans\n",
    "from encoder import encoder"
   ]
  },
  {
   "cell_type": "code",
   "execution_count": null,
   "metadata": {},
   "outputs": [],
   "source": []
  },
  {
   "cell_type": "code",
   "execution_count": 4,
   "metadata": {},
   "outputs": [
    {
     "ename": "IOError",
     "evalue": "[Errno 2] No such file or directory: '../data/localization_02.bag'",
     "output_type": "error",
     "traceback": [
      "\u001b[0;31m---------------------------------------------------------------------------\u001b[0m",
      "\u001b[0;31mIOError\u001b[0m                                   Traceback (most recent call last)",
      "\u001b[0;32m<ipython-input-4-6234bc09baf7>\u001b[0m in \u001b[0;36m<module>\u001b[0;34m()\u001b[0m\n\u001b[1;32m      5\u001b[0m \u001b[0mn_led\u001b[0m \u001b[0;34m=\u001b[0m \u001b[0;36m2\u001b[0m\u001b[0;34m\u001b[0m\u001b[0m\n\u001b[1;32m      6\u001b[0m \u001b[0mthres_detect_led\u001b[0m \u001b[0;34m=\u001b[0m \u001b[0;36m100\u001b[0m\u001b[0;34m\u001b[0m\u001b[0m\n\u001b[0;32m----> 7\u001b[0;31m \u001b[0mevent_list\u001b[0m\u001b[0;34m,\u001b[0m \u001b[0mevent_time_list\u001b[0m \u001b[0;34m=\u001b[0m \u001b[0mget_event_list_from_bag\u001b[0m\u001b[0;34m(\u001b[0m\u001b[0mrosbag\u001b[0m\u001b[0;34m.\u001b[0m\u001b[0mBag\u001b[0m\u001b[0;34m(\u001b[0m\u001b[0mrosbagpath\u001b[0m\u001b[0;34m)\u001b[0m\u001b[0;34m,\u001b[0m \u001b[0mt_at\u001b[0m\u001b[0;34m)\u001b[0m\u001b[0;34m\u001b[0m\u001b[0m\n\u001b[0m",
      "\u001b[0;32m/opt/ros/kinetic/lib/python2.7/dist-packages/rosbag/bag.pyc\u001b[0m in \u001b[0;36m__init__\u001b[0;34m(self, f, mode, compression, chunk_threshold, allow_unindexed, options, skip_index)\u001b[0m\n\u001b[1;32m    171\u001b[0m         \u001b[0mself\u001b[0m\u001b[0;34m.\u001b[0m\u001b[0m_curr_compression\u001b[0m \u001b[0;34m=\u001b[0m \u001b[0mCompression\u001b[0m\u001b[0;34m.\u001b[0m\u001b[0mNONE\u001b[0m\u001b[0;34m\u001b[0m\u001b[0m\n\u001b[1;32m    172\u001b[0m \u001b[0;34m\u001b[0m\u001b[0m\n\u001b[0;32m--> 173\u001b[0;31m         \u001b[0mself\u001b[0m\u001b[0;34m.\u001b[0m\u001b[0m_open\u001b[0m\u001b[0;34m(\u001b[0m\u001b[0mf\u001b[0m\u001b[0;34m,\u001b[0m \u001b[0mmode\u001b[0m\u001b[0;34m,\u001b[0m \u001b[0mallow_unindexed\u001b[0m\u001b[0;34m)\u001b[0m\u001b[0;34m\u001b[0m\u001b[0m\n\u001b[0m\u001b[1;32m    174\u001b[0m \u001b[0;34m\u001b[0m\u001b[0m\n\u001b[1;32m    175\u001b[0m         \u001b[0mself\u001b[0m\u001b[0;34m.\u001b[0m\u001b[0m_output_file\u001b[0m \u001b[0;34m=\u001b[0m \u001b[0mself\u001b[0m\u001b[0;34m.\u001b[0m\u001b[0m_file\u001b[0m\u001b[0;34m\u001b[0m\u001b[0m\n",
      "\u001b[0;32m/opt/ros/kinetic/lib/python2.7/dist-packages/rosbag/bag.pyc\u001b[0m in \u001b[0;36m_open\u001b[0;34m(self, f, mode, allow_unindexed)\u001b[0m\n\u001b[1;32m   1100\u001b[0m \u001b[0;34m\u001b[0m\u001b[0m\n\u001b[1;32m   1101\u001b[0m         \u001b[0;32mtry\u001b[0m\u001b[0;34m:\u001b[0m\u001b[0;34m\u001b[0m\u001b[0m\n\u001b[0;32m-> 1102\u001b[0;31m             \u001b[0;32mif\u001b[0m   \u001b[0mmode\u001b[0m \u001b[0;34m==\u001b[0m \u001b[0;34m'r'\u001b[0m\u001b[0;34m:\u001b[0m \u001b[0mself\u001b[0m\u001b[0;34m.\u001b[0m\u001b[0m_open_read\u001b[0m\u001b[0;34m(\u001b[0m\u001b[0mf\u001b[0m\u001b[0;34m,\u001b[0m \u001b[0mallow_unindexed\u001b[0m\u001b[0;34m)\u001b[0m\u001b[0;34m\u001b[0m\u001b[0m\n\u001b[0m\u001b[1;32m   1103\u001b[0m             \u001b[0;32melif\u001b[0m \u001b[0mmode\u001b[0m \u001b[0;34m==\u001b[0m \u001b[0;34m'w'\u001b[0m\u001b[0;34m:\u001b[0m \u001b[0mself\u001b[0m\u001b[0;34m.\u001b[0m\u001b[0m_open_write\u001b[0m\u001b[0;34m(\u001b[0m\u001b[0mf\u001b[0m\u001b[0;34m)\u001b[0m\u001b[0;34m\u001b[0m\u001b[0m\n\u001b[1;32m   1104\u001b[0m             \u001b[0;32melif\u001b[0m \u001b[0mmode\u001b[0m \u001b[0;34m==\u001b[0m \u001b[0;34m'a'\u001b[0m\u001b[0;34m:\u001b[0m \u001b[0mself\u001b[0m\u001b[0;34m.\u001b[0m\u001b[0m_open_append\u001b[0m\u001b[0;34m(\u001b[0m\u001b[0mf\u001b[0m\u001b[0;34m,\u001b[0m \u001b[0mallow_unindexed\u001b[0m\u001b[0;34m)\u001b[0m\u001b[0;34m\u001b[0m\u001b[0m\n",
      "\u001b[0;32m/opt/ros/kinetic/lib/python2.7/dist-packages/rosbag/bag.pyc\u001b[0m in \u001b[0;36m_open_read\u001b[0;34m(self, f, allow_unindexed)\u001b[0m\n\u001b[1;32m   1122\u001b[0m             \u001b[0mself\u001b[0m\u001b[0;34m.\u001b[0m\u001b[0m_filename\u001b[0m \u001b[0;34m=\u001b[0m \u001b[0mNone\u001b[0m\u001b[0;34m\u001b[0m\u001b[0m\n\u001b[1;32m   1123\u001b[0m         \u001b[0;32melse\u001b[0m\u001b[0;34m:\u001b[0m\u001b[0;34m\u001b[0m\u001b[0m\n\u001b[0;32m-> 1124\u001b[0;31m             \u001b[0mself\u001b[0m\u001b[0;34m.\u001b[0m\u001b[0m_file\u001b[0m     \u001b[0;34m=\u001b[0m \u001b[0mopen\u001b[0m\u001b[0;34m(\u001b[0m\u001b[0mf\u001b[0m\u001b[0;34m,\u001b[0m \u001b[0;34m'rb'\u001b[0m\u001b[0;34m)\u001b[0m\u001b[0;34m\u001b[0m\u001b[0m\n\u001b[0m\u001b[1;32m   1125\u001b[0m             \u001b[0mself\u001b[0m\u001b[0;34m.\u001b[0m\u001b[0m_filename\u001b[0m \u001b[0;34m=\u001b[0m \u001b[0mf\u001b[0m\u001b[0;34m\u001b[0m\u001b[0m\n\u001b[1;32m   1126\u001b[0m \u001b[0;34m\u001b[0m\u001b[0m\n",
      "\u001b[0;31mIOError\u001b[0m: [Errno 2] No such file or directory: '../data/localization_02.bag'"
     ]
    }
   ],
   "source": [
    "# rosbagpath = '../../vlc/data/vlc_slow_100_100hz_111100_110011.bag'\n",
    "rosbagpath = '../data/localization_02.bag'\n",
    "t_at = 0.5\n",
    "freq = 100\n",
    "n_led = 2\n",
    "thres_detect_led = 100\n",
    "event_list, event_time_list = get_event_list_from_bag(rosbag.Bag(rosbagpath), t_at)"
   ]
  },
  {
   "cell_type": "code",
   "execution_count": 37,
   "metadata": {},
   "outputs": [],
   "source": [
    "color = {\n",
    "    '0': 'red',\n",
    "    '1': 'green',\n",
    "    'others': 'white'\n",
    "}\n",
    "id2msg = {\n",
    "    '0': [True, True, False, False, True, True],\n",
    "    '1': [True, True, True, True, False, False]\n",
    "}"
   ]
  },
  {
   "cell_type": "code",
   "execution_count": 38,
   "metadata": {},
   "outputs": [
    {
     "name": "stdout",
     "output_type": "stream",
     "text": [
      "Detected the correct msg\n",
      "Detected the correct msg\n",
      "pos:[426, 118], msg:[True, True, True, True, False, False]\n",
      "pos:[387, 308], msg:[True, True, False, False, True, True]\n"
     ]
    },
    {
     "data": {
      "text/plain": [
       "<matplotlib.legend.Legend at 0x7fceb22bf810>"
      ]
     },
     "execution_count": 38,
     "metadata": {},
     "output_type": "execute_result"
    },
    {
     "data": {
      "image/png": "[encoded data removed]",
      "text/plain": [
       "<Figure size 432x288 with 1 Axes>"
      ]
     },
     "metadata": {
      "needs_background": "light"
     },
     "output_type": "display_data"
    }
   ],
   "source": [
    "estimated_pos_dict, evidence_map_dict = estimate_led_positions_kmeans(\n",
    "    event_list, \n",
    "    freq, \n",
    "    n_led=n_led,\n",
    "    t_at=t_at,\n",
    "    event_time_list=event_time_list, \n",
    "    n_tol=1, \n",
    "    sigma=30\n",
    ")\n",
    "\n",
    "encoded_msgs = encoder(event_list, estimated_pos_dict, freq, thres_detect_led, t_begin=0.0, t_end=t_at)\n",
    "plt.imshow(np.zeros((720, 1280)))\n",
    "\n",
    "ps = np.zeros((2, 2))\n",
    "\n",
    "for key in encoded_msgs.keys():\n",
    "    pos = estimated_pos_dict[key]\n",
    "    msg = encoded_msgs[key]\n",
    "    print('pos:{0}, msg:{1}'.format([int(pos[0]), int(pos[1])], msg))\n",
    "    if msg == [True, True, False, False, True, True]:\n",
    "        clr = 'yellow'\n",
    "        label = 'yellow LED, Origin'\n",
    "        ps[1] = pos\n",
    "    elif msg == [True, True, True, True, False, False]:\n",
    "        clr = 'red'\n",
    "        label = 'red LED'\n",
    "        ps[0] = pos\n",
    "    else:\n",
    "        clr = 'white'\n",
    "        label = 'invalid'\n",
    "    plt.scatter(pos[0], pos[1], color=clr, label=label)\n",
    "plt.legend()"
   ]
  },
  {
   "cell_type": "code",
   "execution_count": 64,
   "metadata": {},
   "outputs": [
    {
     "data": {
      "text/plain": [
       "6.34019174590991"
      ]
     },
     "execution_count": 64,
     "metadata": {},
     "output_type": "execute_result"
    }
   ],
   "source": [
    "np.rad2deg(np.arctan2(3, 27))"
   ]
  },
  {
   "cell_type": "code",
   "execution_count": 52,
   "metadata": {},
   "outputs": [],
   "source": [
    "def localize(ps, Pws, K, dist, method='xyz'):\n",
    "    \"\"\"\n",
    "    Parameters:\n",
    "    ------\n",
    "    ps: numpy.array (shape: [n, 2])\n",
    "        2D positions of markers in pixel\n",
    "    Pws: \n",
    "        3D positions of markers in world frame\n",
    "    K:\n",
    "        calibration matrix\n",
    "    dist:\n",
    "        distortion parameters\n",
    "    method:\n",
    "        [x, xyz, xyyaw]\n",
    "    \"\"\"\n",
    "    R_test = np.array([\n",
    "        [0.0, 1.0, 0.0],\n",
    "        [1.0, 0.0, 0.0],\n",
    "        [0.0, 0.0, 1.0]\n",
    "    ])\n",
    "    R = np.zeros((3, 3))\n",
    "    T = np.zeros((3, 1))\n",
    "    ps_undistort = cv2.undistortPoints(np.array([ps]).astype('float32'), K, dist, P=K)[0]\n",
    "    ps_undistort\n",
    "    Kinv = np.linalg.inv(K)\n",
    "    if method=='xyz':\n",
    "        u1 = np.hstack([ps_undistort[0], 1]).reshape([-1, 1])\n",
    "        u2 = np.hstack([ps_undistort[1], 1]).reshape([-1, 1])\n",
    "        A = np.block([[np.eye(3), -np.dot(Kinv, u1), np.zeros((3, 1))], [np.eye(3), np.zeros((3, 1)), -np.dot(Kinv, u2)]])\n",
    "        b = - Pws.reshape([-1, 1])\n",
    "        return np.eye(3), np.dot(np.linalg.pinv(A), b)[:3]\n",
    "    if method=='xyzyaw':\n",
    "        u1 = np.hstack([ps_undistort[0], 1]).reshape([-1, 1])\n",
    "        u2 = np.hstack([ps_undistort[1], 1]).reshape([-1, 1])\n",
    "        d_theta = np.array([\n",
    "            [0, -1, 0], \n",
    "            [1, 0, 0],\n",
    "            [0, 0, 0]\n",
    "        ])\n",
    "        A = np.block([\n",
    "            [np.eye(3), np.dot(d_theta, Pws[0].reshape([-1, 1])), -np.dot(Kinv, u1), np.zeros((3, 1))], \n",
    "            [np.eye(3), np.dot(d_theta, Pws[1].reshape([-1, 1])), np.zeros((3, 1)), -np.dot(Kinv, u2)]\n",
    "        ])\n",
    "        b = - Pws.reshape([-1, 1])\n",
    "        ans = np.dot(np.linalg.pinv(A), b)\n",
    "        R = np.array([\n",
    "            [np.cos(ans[3]), -np.sin(ans[3]), 0],\n",
    "            [np.sin(ans[3]), np.cos(ans[3]), 0],\n",
    "            [0, 0, 1]\n",
    "        ])\n",
    "        T = ans[:3]\n",
    "        return R, T\n",
    "    elif method=='xy':\n",
    "        u = np.hstack([ps_undistort[0], 1]).reshape([-1, 1])\n",
    "        A = np.block([np.array([[1, 0], [0, 1], [0, 0]]), -np.dot(Kinv, u)])\n",
    "        b = - Pws[0].reshape([-1, 1])\n",
    "        \n",
    "#         b = np.dot(R_test, b)\n",
    "        \n",
    "        ans = np.dot(np.linalg.inv(A), b)[:3]\n",
    "        T[0, 0] = ans[0, 0]\n",
    "        T[1, 0] = ans[1, 0]\n",
    "        return np.eye(3), T\n",
    "    elif method=='x':\n",
    "        u = np.hstack([ps_undistort[0], 1]).reshape([-1, 1])\n",
    "        A = np.block([np.array([1, 0, 0]).reshape((-1, 1)), -np.dot(Kinv, u)])\n",
    "        b = - Pws[0].reshape([-1, 1])\n",
    "        ans = np.dot(np.linalg.pinv(A), b)[:3]\n",
    "        T[0, 0] = ans[0, 0]\n",
    "        return np.eye(3), T\n",
    "    elif method=='y':\n",
    "        u = np.hstack([ps_undistort[0], 1]).reshape([-1, 1])\n",
    "        A = np.block([np.array([0, 1, 0]).reshape((-1, 1)), -np.dot(Kinv, u)])\n",
    "        b = - Pws[0].reshape([-1, 1])\n",
    "        ans = np.dot(np.linalg.pinv(A), b)[:3]\n",
    "        T[1, 0] = ans[0, 0]\n",
    "        return np.eye(3), T\n",
    "    elif method=='zx':\n",
    "        u = np.hstack([ps_undistort[0], 1]).reshape([-1, 1])\n",
    "        A = np.block([np.array([[0, 1], [0, 0], [1, 0]]), -np.dot(Kinv, u)])\n",
    "        b = - Pws[0].reshape([-1, 1])        \n",
    "        ans = np.dot(np.linalg.inv(A), b)[:3]\n",
    "        T[2, 0] = ans[0, 0]\n",
    "        T[0, 0] = ans[1, 0]\n",
    "        return np.eye(3), T"
   ]
  },
  {
   "cell_type": "code",
   "execution_count": 5,
   "metadata": {},
   "outputs": [],
   "source": [
    "def load_calibration(filepath='/home/koji/dvs/calibration/data'):\n",
    "    matrix = np.loadtxt(os.path.join(filepath, 'matrix.txt'))\n",
    "    dist = np.loadtxt(os.path.join(filepath, 'dist.txt'))\n",
    "    return matrix, dist\n",
    "K, dist = load_calibration()"
   ]
  },
  {
   "cell_type": "code",
   "execution_count": 6,
   "metadata": {},
   "outputs": [],
   "source": [
    "Pws = np.array([[0, -3.0, 2.0], [0, 0, 0]]) # [m?]"
   ]
  },
  {
   "cell_type": "code",
   "execution_count": 7,
   "metadata": {},
   "outputs": [],
   "source": [
    "ps = [[426, 118], [387, 308]]\n",
    "ps_undistort = cv2.undistortPoints(np.array([ps]).astype('float32'), K, dist, P=K)[0]"
   ]
  },
  {
   "cell_type": "code",
   "execution_count": 8,
   "metadata": {},
   "outputs": [
    {
     "data": {
      "text/plain": [
       "array([[418.4588 , 111.15691],\n",
       "       [380.1777 , 307.92023]], dtype=float32)"
      ]
     },
     "execution_count": 8,
     "metadata": {},
     "output_type": "execute_result"
    }
   ],
   "source": [
    "ps_undistort"
   ]
  },
  {
   "cell_type": "code",
   "execution_count": 55,
   "metadata": {},
   "outputs": [
    {
     "name": "stdout",
     "output_type": "stream",
     "text": [
      "[[-3.4243565 ]\n",
      " [ 0.        ]\n",
      " [13.71651605]]\n"
     ]
    },
    {
     "data": {
      "image/png": "[encoded data removed]",
      "text/plain": [
       "<Figure size 432x288 with 1 Axes>"
      ]
     },
     "metadata": {
      "needs_background": "light"
     },
     "output_type": "display_data"
    }
   ],
   "source": [
    "plt.imshow(np.zeros((720, 1280)))\n",
    "plt.scatter(ps[:, 0], ps[:, 1], color='white')\n",
    "R, T = localize(ps, Pws, K, dist, method='zx')\n",
    "print(T)"
   ]
  },
  {
   "cell_type": "code",
   "execution_count": 56,
   "metadata": {},
   "outputs": [
    {
     "name": "stdout",
     "output_type": "stream",
     "text": [
      "[[-3.46272758e+00]\n",
      " [-8.76322821e-03]\n",
      " [ 1.37152183e+01]]\n"
     ]
    },
    {
     "data": {
      "image/png": "[encoded data removed]",
      "text/plain": [
       "<Figure size 432x288 with 1 Axes>"
      ]
     },
     "metadata": {
      "needs_background": "light"
     },
     "output_type": "display_data"
    }
   ],
   "source": [
    "plt.imshow(np.zeros((720, 1280)))\n",
    "plt.scatter(ps[:, 0], ps[:, 1], color='white')\n",
    "R, T = localize(ps, Pws, K, dist, method='xyz')\n",
    "print(T)"
   ]
  },
  {
   "cell_type": "code",
   "execution_count": 62,
   "metadata": {},
   "outputs": [
    {
     "name": "stdout",
     "output_type": "stream",
     "text": [
      "(array([1.54438371]), array([[-3.52359639],\n",
      "       [-0.01609892],\n",
      "       [13.8008557 ]]))\n"
     ]
    },
    {
     "data": {
      "image/png": "[encoded data removed]",
      "text/plain": [
       "<Figure size 432x288 with 1 Axes>"
      ]
     },
     "metadata": {
      "needs_background": "light"
     },
     "output_type": "display_data"
    }
   ],
   "source": [
    "plt.imshow(np.zeros((720, 1280)))\n",
    "plt.scatter(ps[:, 0], ps[:, 1], color='white')\n",
    "R, T = localize(ps, Pws, K, dist, method='xyzyaw')\n",
    "print(np.rad2deg(np.arccos(R[0,0])), T)"
   ]
  },
  {
   "cell_type": "code",
   "execution_count": null,
   "metadata": {},
   "outputs": [],
   "source": [
    "# ps = np.array([[655, 64]])\n",
    "plt.imshow(np.zeros((720, 1280)))\n",
    "plt.scatter(ps[:, 0], ps[:, 1], color='white')\n",
    "R, T = localize(ps, Pws, K, dist, method='zx')\n",
    "print(T)"
   ]
  },
  {
   "cell_type": "code",
   "execution_count": 406,
   "metadata": {},
   "outputs": [
    {
     "name": "stdout",
     "output_type": "stream",
     "text": [
      "[[3.18512870e-03]\n",
      " [0.00000000e+00]\n",
      " [3.86361895e+01]]\n"
     ]
    },
    {
     "data": {
      "image/png": "[encoded data removed]",
      "text/plain": [
       "<Figure size 432x288 with 1 Axes>"
      ]
     },
     "metadata": {
      "needs_background": "light"
     },
     "output_type": "display_data"
    }
   ],
   "source": [
    "ps = np.array([[642.9, 100]])\n",
    "plt.imshow(np.zeros((720, 1280)))\n",
    "plt.scatter(ps[:, 0], ps[:, 1], color='white')\n",
    "R, T = localize(ps, Pws, K, dist, method='zx')\n",
    "print(T)"
   ]
  },
  {
   "cell_type": "code",
   "execution_count": 407,
   "metadata": {},
   "outputs": [
    {
     "name": "stdout",
     "output_type": "stream",
     "text": [
      "[[6.51541428]\n",
      " [7.5730734 ]\n",
      " [0.        ]]\n"
     ]
    },
    {
     "data": {
      "image/png": "[encoded data removed]",
      "text/plain": [
       "<Figure size 432x288 with 1 Axes>"
      ]
     },
     "metadata": {
      "needs_background": "light"
     },
     "output_type": "display_data"
    }
   ],
   "source": [
    "ps = np.array([[1200, 100]])\n",
    "plt.imshow(np.zeros((720, 1280)))\n",
    "plt.scatter(ps[:, 0], ps[:, 1], color='white')\n",
    "R, T = localize(ps, Pws, K, dist, method='xy')\n",
    "print(T)"
   ]
  },
  {
   "cell_type": "code",
   "execution_count": 361,
   "metadata": {},
   "outputs": [
    {
     "data": {
      "text/plain": [
       "array([[1.02839267e+03, 0.00000000e+00, 6.42907688e+02],\n",
       "       [0.00000000e+00, 1.03943630e+03, 3.09842219e+02],\n",
       "       [0.00000000e+00, 0.00000000e+00, 1.00000000e+00]])"
      ]
     },
     "execution_count": 361,
     "metadata": {},
     "output_type": "execute_result"
    }
   ],
   "source": [
    "K"
   ]
  },
  {
   "cell_type": "code",
   "execution_count": 362,
   "metadata": {},
   "outputs": [
    {
     "name": "stdout",
     "output_type": "stream",
     "text": [
      "[[-7.45234904e-05]\n",
      " [-2.13822661e-05]\n",
      " [ 0.00000000e+00]]\n"
     ]
    },
    {
     "data": {
      "image/png": "[encoded data removed]",
      "text/plain": [
       "<Figure size 432x288 with 1 Axes>"
      ]
     },
     "metadata": {
      "needs_background": "light"
     },
     "output_type": "display_data"
    }
   ],
   "source": [
    "ps = np.array([[642.9, 309.84]])\n",
    "plt.imshow(np.zeros((720, 1280)))\n",
    "plt.scatter(ps[:, 0], ps[:, 1], color='white')\n",
    "R, T = localize(ps, Pws, K, dist, method='xy')\n",
    "print(T)"
   ]
  },
  {
   "cell_type": "code",
   "execution_count": 348,
   "metadata": {},
   "outputs": [
    {
     "name": "stdout",
     "output_type": "stream",
     "text": [
      "[[-0.02806223]\n",
      " [-2.05606811]\n",
      " [ 0.        ]]\n"
     ]
    },
    {
     "data": {
      "image/png": "[encoded data removed]",
      "text/plain": [
       "<Figure size 432x288 with 1 Axes>"
      ]
     },
     "metadata": {
      "needs_background": "light"
     },
     "output_type": "display_data"
    }
   ],
   "source": [
    "ps = np.array([[640, 100]])\n",
    "plt.imshow(np.zeros((720, 1280)))\n",
    "plt.scatter(ps[:, 0], ps[:, 1], color='white')\n",
    "R, T = localize(ps, Pws, K, dist, method='xy')\n",
    "print(T)"
   ]
  },
  {
   "cell_type": "code",
   "execution_count": 262,
   "metadata": {},
   "outputs": [
    {
     "name": "stdout",
     "output_type": "stream",
     "text": [
      "[[ 0.00465529]\n",
      " [-1.65891564]]\n"
     ]
    },
    {
     "data": {
      "text/plain": [
       "(array([[1., 0., 0.],\n",
       "        [0., 1., 0.],\n",
       "        [0., 0., 1.]]), array([[0.00465529, 0.        , 0.        ]]))"
      ]
     },
     "execution_count": 262,
     "metadata": {},
     "output_type": "execute_result"
    },
    {
     "data": {
      "image/png": "[encoded data removed]",
      "text/plain": [
       "<Figure size 432x288 with 1 Axes>"
      ]
     },
     "metadata": {
      "needs_background": "light"
     },
     "output_type": "display_data"
    }
   ],
   "source": [
    "ps = np.array([[640, 100], [640, 400]])\n",
    "plt.imshow(np.zeros((720, 1280)))\n",
    "plt.scatter(ps[:, 0], ps[:, 1], color='white')\n",
    "localize(ps, Pws, K, dist, method='x')"
   ]
  },
  {
   "cell_type": "code",
   "execution_count": 253,
   "metadata": {},
   "outputs": [
    {
     "data": {
      "text/plain": [
       "(array([[1., 0., 0.],\n",
       "        [0., 1., 0.],\n",
       "        [0., 0., 1.]]), array([[ 2.18400211e-03],\n",
       "        [-2.32321014e-01],\n",
       "        [-4.67005478e+00]]))"
      ]
     },
     "execution_count": 253,
     "metadata": {},
     "output_type": "execute_result"
    },
    {
     "data": {
      "image/png": "[encoded data removed]",
      "text/plain": [
       "<Figure size 432x288 with 1 Axes>"
      ]
     },
     "metadata": {
      "needs_background": "light"
     },
     "output_type": "display_data"
    }
   ],
   "source": [
    "ps = np.array([[640, 400], [640, 100]])\n",
    "plt.imshow(np.zeros((720, 1280)))\n",
    "plt.scatter(ps[:, 0], ps[:, 1], color='white')\n",
    "localize(ps, Pws, K, dist)"
   ]
  },
  {
   "cell_type": "code",
   "execution_count": 254,
   "metadata": {},
   "outputs": [
    {
     "data": {
      "text/plain": [
       "(array([[1., 0., 0.],\n",
       "        [0., 1., 0.],\n",
       "        [0., 0., 1.]]), array([[-2.50641153e-03],\n",
       "        [ 1.07695162e-01],\n",
       "        [-3.01406899e+00]]))"
      ]
     },
     "execution_count": 254,
     "metadata": {},
     "output_type": "execute_result"
    },
    {
     "data": {
      "image/png": "[encoded data removed]",
      "text/plain": [
       "<Figure size 432x288 with 1 Axes>"
      ]
     },
     "metadata": {
      "needs_background": "light"
     },
     "output_type": "display_data"
    }
   ],
   "source": [
    "ps = np.array([[640, 200], [640, 350]])\n",
    "plt.imshow(np.zeros((720, 1280)))\n",
    "plt.scatter(ps[:, 0], ps[:, 1], color='white')\n",
    "localize(ps, Pws, K, dist)"
   ]
  },
  {
   "cell_type": "code",
   "execution_count": 255,
   "metadata": {},
   "outputs": [
    {
     "name": "stdout",
     "output_type": "stream",
     "text": [
      "[[0.]\n",
      " [0.]]\n"
     ]
    },
    {
     "data": {
      "text/plain": [
       "(array([[1., 0., 0.],\n",
       "        [0., 1., 0.],\n",
       "        [0., 0., 1.]]), array([[0., 0., 0.]]))"
      ]
     },
     "execution_count": 255,
     "metadata": {},
     "output_type": "execute_result"
    },
    {
     "data": {
      "image/png": "[encoded data removed]",
      "text/plain": [
       "<Figure size 432x288 with 1 Axes>"
      ]
     },
     "metadata": {
      "needs_background": "light"
     },
     "output_type": "display_data"
    }
   ],
   "source": [
    "# ps = np.array([[100, 500], [1180, 500]])\n",
    "ps = np.array([[600, 100], [680, 100]])\n",
    "plt.imshow(np.zeros((720, 1280)))\n",
    "plt.scatter(ps[:, 0], ps[:, 1], color='white')\n",
    "localize(ps, Pws, K, dist, method='x')"
   ]
  },
  {
   "cell_type": "code",
   "execution_count": 256,
   "metadata": {},
   "outputs": [
    {
     "name": "stdout",
     "output_type": "stream",
     "text": [
      "[[-0.00579221]\n",
      " [ 0.04949538]\n",
      " [ 2.04949538]]\n"
     ]
    },
    {
     "data": {
      "text/plain": [
       "(array([[1., 0., 0.],\n",
       "        [0., 1., 0.],\n",
       "        [0., 0., 1.]]), array([[-0.00579221,  0.        ,  0.        ]]))"
      ]
     },
     "execution_count": 256,
     "metadata": {},
     "output_type": "execute_result"
    },
    {
     "data": {
      "image/png": "[encoded data removed]",
      "text/plain": [
       "<Figure size 432x288 with 1 Axes>"
      ]
     },
     "metadata": {
      "needs_background": "light"
     },
     "output_type": "display_data"
    }
   ],
   "source": [
    "ps = np.array([[640, 360], [1169, 56]])\n",
    "plt.imshow(np.zeros((720, 1280)))\n",
    "plt.scatter(ps[:, 0], ps[:, 1], color='white')\n",
    "localize(ps, Pws, K, dist, method='xy')"
   ]
  },
  {
   "cell_type": "code",
   "execution_count": 257,
   "metadata": {},
   "outputs": [
    {
     "data": {
      "text/plain": [
       "array([[ 1.        , -0.52791867],\n",
       "       [ 0.        ,  1.07326835],\n",
       "       [ 0.        ,  1.        ]])"
      ]
     },
     "execution_count": 257,
     "metadata": {},
     "output_type": "execute_result"
    }
   ],
   "source": [
    "A = np.block([np.array([1, 0, 0]).reshape((-1, 1)), np.dot(Kinv, u1)])\n",
    "A[1, 1] += 1\n",
    "A"
   ]
  },
  {
   "cell_type": "code",
   "execution_count": 258,
   "metadata": {},
   "outputs": [
    {
     "data": {
      "text/plain": [
       "array([[1, 0, 0]])"
      ]
     },
     "execution_count": 258,
     "metadata": {},
     "output_type": "execute_result"
    }
   ],
   "source": [
    "np.array([1, 0, 0]).reshape((1, -1))"
   ]
  },
  {
   "cell_type": "code",
   "execution_count": 259,
   "metadata": {},
   "outputs": [
    {
     "data": {
      "text/plain": [
       "array([-0.04075067,  0.07326835,  1.        ])"
      ]
     },
     "execution_count": 259,
     "metadata": {},
     "output_type": "execute_result"
    }
   ],
   "source": [
    "np.dot(Kinv, [601, 386, 1])"
   ]
  },
  {
   "cell_type": "code",
   "execution_count": 260,
   "metadata": {},
   "outputs": [
    {
     "data": {
      "text/plain": [
       "array([[-0.04244019],\n",
       "       [-0.20573942],\n",
       "       [ 1.        ]])"
      ]
     },
     "execution_count": 260,
     "metadata": {},
     "output_type": "execute_result"
    }
   ],
   "source": [
    "u = np.hstack([ps_undistort[0], 1]).reshape([-1, 1])\n",
    "A = np.block([np.array([[1, 0], [0, 1], [0, 0]]), -np.dot(Kinv, u)])\n",
    "b = - Pws[0].reshape([-1, 1])\n",
    "b[2, 0] += 1\n",
    "ans = np.dot(np.linalg.pinv(A), b)[:3]\n",
    "ans"
   ]
  },
  {
   "cell_type": "code",
   "execution_count": 249,
   "metadata": {},
   "outputs": [
    {
     "data": {
      "text/plain": [
       "array([[-0.],\n",
       "       [-0.],\n",
       "       [-0.]])"
      ]
     },
     "execution_count": 249,
     "metadata": {},
     "output_type": "execute_result"
    }
   ],
   "source": [
    "b"
   ]
  },
  {
   "cell_type": "code",
   "execution_count": null,
   "metadata": {},
   "outputs": [],
   "source": []
  }
 ],
 "metadata": {
  "kernelspec": {
   "display_name": "Python 2",
   "language": "python",
   "name": "python2"
  },
  "language_info": {
   "codemirror_mode": {
    "name": "ipython",
    "version": 2
   },
   "file_extension": ".py",
   "mimetype": "text/x-python",
   "name": "python",
   "nbconvert_exporter": "python",
   "pygments_lexer": "ipython2",
   "version": "2.7.12"
  }
 },
 "nbformat": 4,
 "nbformat_minor": 2
}
